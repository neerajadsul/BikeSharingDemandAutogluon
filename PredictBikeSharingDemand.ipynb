{
 "cells": [
  {
   "cell_type": "markdown",
   "id": "9448d925",
   "metadata": {},
   "source": [
    "# Predict Bike Sharing Demand with Autogluon"
   ]
  },
  {
   "cell_type": "code",
   "execution_count": null,
   "id": "70eb9101",
   "metadata": {},
   "outputs": [],
   "source": [
    "import pandas as pd\n",
    "from autogluon.tabular import TabularPredictor\n",
    "import autogluon\n",
    "import matplotlib.pyplot as plt\n",
    "print('Autogluon Version: ', autogluon.common.version.__version__)\n",
    "import numpy as np"
   ]
  },
  {
   "cell_type": "markdown",
   "id": "578a9cbf",
   "metadata": {},
   "source": [
    "## Step-1: Load and explore the data"
   ]
  },
  {
   "cell_type": "code",
   "execution_count": null,
   "id": "776a6b9f",
   "metadata": {},
   "outputs": [],
   "source": [
    "train = pd.read_csv('bike-sharing-demand/train.csv')\n",
    "train['datetime'] = pd.to_datetime(train['datetime'])\n",
    "print(train.info())\n",
    "train.head()"
   ]
  },
  {
   "cell_type": "code",
   "execution_count": null,
   "id": "d9a6d51c",
   "metadata": {},
   "outputs": [],
   "source": [
    "test = pd.read_csv('bike-sharing-demand/test.csv')\n",
    "test['datetime'] = pd.to_datetime(test['datetime'])\n",
    "print(test.info())\n",
    "test.head()"
   ]
  },
  {
   "cell_type": "code",
   "execution_count": null,
   "id": "0f7d4dfd",
   "metadata": {},
   "outputs": [],
   "source": [
    "submission = pd.read_csv('bike-sharing-demand/sampleSubmission.csv')\n",
    "print(submission.info())\n",
    "submission.tail()"
   ]
  },
  {
   "cell_type": "markdown",
   "id": "987fa0af",
   "metadata": {},
   "source": [
    "## Step-2: Train Model using Autogluon's Tabular Prediction"
   ]
  },
  {
   "cell_type": "code",
   "execution_count": null,
   "id": "6bd1309d",
   "metadata": {},
   "outputs": [],
   "source": [
    "predictor = TabularPredictor(label='count', problem_type='regression')\n",
    "predictor = predictor.fit(\n",
    "    train_data=train.drop(columns=['casual', 'registered']),\n",
    "    time_limit=300,\n",
    "    presets='high_quality',\n",
    ")"
   ]
  },
  {
   "cell_type": "code",
   "execution_count": null,
   "id": "2a43214c",
   "metadata": {},
   "outputs": [],
   "source": [
    "predictor.fit_summary()"
   ]
  },
  {
   "cell_type": "code",
   "execution_count": null,
   "id": "2e9bc207",
   "metadata": {},
   "outputs": [],
   "source": [
    "predictions = predictor.predict(test)"
   ]
  },
  {
   "cell_type": "markdown",
   "id": "16a5bc66",
   "metadata": {},
   "source": [
    "### Checking for any negative predictions and set them to 0"
   ]
  },
  {
   "cell_type": "code",
   "execution_count": null,
   "id": "e60dd822",
   "metadata": {},
   "outputs": [],
   "source": [
    "print(f'Number of negative predictions: {(predictions < 0).sum()}')\n",
    "predictions[predictions < 0] = 0\n",
    "submission['count'] = predictions.astype('int')\n",
    "submission.to_csv('bike-sharing-demand/submission.csv', index=False)"
   ]
  },
  {
   "cell_type": "code",
   "execution_count": null,
   "id": "33d081f7-dac2-4559-95f5-b7e54b1edfc5",
   "metadata": {},
   "outputs": [],
   "source": [
    "!kaggle competitions submit -c bike-sharing-demand -f bike-sharing-demand/submission.csv -m \"basic data no additional features\""
   ]
  },
  {
   "cell_type": "markdown",
   "id": "e627d4ec",
   "metadata": {},
   "source": [
    "## Feature Engineering with EDA"
   ]
  },
  {
   "cell_type": "code",
   "execution_count": null,
   "id": "fd8112bc",
   "metadata": {},
   "outputs": [],
   "source": [
    "train.hist(figsize=(15,12))"
   ]
  },
  {
   "cell_type": "code",
   "execution_count": null,
   "id": "85ed29aa",
   "metadata": {},
   "outputs": [],
   "source": [
    "# Create new features for individual day, hour and month\n",
    "train['month'] = train['datetime'].dt.month\n",
    "train['day'] = train['datetime'].dt.day\n",
    "train['hour'] = train['datetime'].dt.hour\n",
    "test['month'] = test['datetime'].dt.month\n",
    "test['day'] = test['datetime'].dt.day\n",
    "test['hour'] = test['datetime'].dt.hour"
   ]
  },
  {
   "cell_type": "code",
   "execution_count": null,
   "id": "144dab4d",
   "metadata": {},
   "outputs": [],
   "source": [
    "train['season'] = pd.Categorical(train['season'])\n",
    "train['weather'] = pd.Categorical(train['weather'])\n",
    "test['season'] = pd.Categorical(test['season'])\n",
    "test['weather'] = pd.Categorical(test['weather'])"
   ]
  },
  {
   "cell_type": "code",
   "execution_count": null,
   "id": "a507c846",
   "metadata": {},
   "outputs": [],
   "source": [
    "# train['outdoor_w'] = (train['atemp'] < 30) & (train['atemp'] > 14) & (train['humidity'] < 80) & (train['windspeed'] < 13)\n",
    "# train['outdoor_w'] = train['outdoor_w'].astype('int')\n",
    "# test['outdoor_w'] = (test['atemp'] < 30) & (test['atemp'] > 14) & (test['humidity'] < 80) & (test['windspeed'] < 13)\n",
    "# test['outdoor_w'] = test['outdoor_w'].astype('int')"
   ]
  },
  {
   "cell_type": "code",
   "execution_count": null,
   "id": "d6690d64",
   "metadata": {},
   "outputs": [],
   "source": [
    "train.hist(figsize=(10,12))"
   ]
  },
  {
   "cell_type": "code",
   "execution_count": null,
   "id": "65715639",
   "metadata": {},
   "outputs": [],
   "source": [
    "predictor_new_features = TabularPredictor(label='count', problem_type='regression')\n",
    "predictor_new_features = predictor_new_features.fit(\n",
    "    train_data=train.drop(columns=['casual', 'registered']),\n",
    "    time_limit=300,\n",
    "    presets='high_quality',\n",
    ")"
   ]
  },
  {
   "cell_type": "code",
   "execution_count": null,
   "id": "05a071d0",
   "metadata": {},
   "outputs": [],
   "source": [
    "predictions_new_features = predictor_new_features.predict(test)\n",
    "print(f'Number of negative predictions: {(predictions_new_features < 0).sum()}')\n",
    "predictions_new_features[predictions_new_features < 0] = 0\n",
    "submission['count'] = predictions_new_features.astype('int')\n",
    "submission.to_csv('bike-sharing-demand/submission_new_features.csv', index=False)"
   ]
  },
  {
   "cell_type": "code",
   "execution_count": null,
   "id": "a55f6a67",
   "metadata": {},
   "outputs": [],
   "source": [
    "!kaggle competitions submit -c bike-sharing-demand -f bike-sharing-demand/submission_new_features.csv -m \"new features\""
   ]
  },
  {
   "cell_type": "code",
   "execution_count": null,
   "id": "e96c6016",
   "metadata": {},
   "outputs": [],
   "source": [
    "!kaggle competitions submissions -c bike-sharing-demand | tail -n +1 | head -n 6"
   ]
  },
  {
   "cell_type": "code",
   "execution_count": null,
   "id": "172b875e",
   "metadata": {},
   "outputs": [],
   "source": [
    "# from autogluon.tabular import models\n",
    "from autogluon.common import space\n",
    "\n",
    "nn_options = {  # specifies non-default hyperparameter values for neural network models\n",
    "    'num_epochs': 10,  # number of training epochs (controls training time of NN models)\n",
    "    'learning_rate': space.Real(1e-4, 1e-2, default=5e-4, log=True),  # learning rate used in training (real-valued hyperparameter searched on log-scale)\n",
    "    'activation': space.Categorical('relu', 'softrelu', 'tanh'),  # activation function used in NN (categorical hyperparameter, default = first entry)\n",
    "    'dropout_prob': space.Real(0.0, 0.5, default=0.1),  # dropout probability (real-valued hyperparameter)\n",
    "}\n",
    "\n",
    "gbm_options = {  # specifies non-default hyperparameter values for lightGBM gradient boosted trees\n",
    "    'num_boost_round': 100,  # number of boosting rounds (controls training time of GBM models)\n",
    "    'num_leaves': space.Int(lower=26, upper=66, default=36),  # number of leaves in trees (integer hyperparameter)\n",
    "}\n",
    "\n",
    "hyperparameters = {  # hyperparameters of each model type\n",
    "                   'GBM': gbm_options,\n",
    "                   'NN_TORCH': nn_options,  # NOTE: comment this line out if you get errors on Mac OSX\n",
    "                  }  # When these keys are missing from hyperparameters dict, no models of that type are trained\n",
    "\n",
    "time_limit = 2*60  # train various models for ~2 min\n",
    "num_trials = 5  # try at most 5 different hyperparameter configurations for each type of model\n",
    "search_strategy = 'auto'  # to tune hyperparameters using random search routine with a local scheduler\n",
    "\n",
    "hyperparameter_tune_kwargs = {  # HPO is not performed unless hyperparameter_tune_kwargs is specified\n",
    "    'num_trials': num_trials,\n",
    "    'scheduler' : 'local',\n",
    "    'searcher': search_strategy,\n",
    "}  # Refer to TabularPredictor.fit docstring for all valid values"
   ]
  },
  {
   "cell_type": "code",
   "execution_count": null,
   "id": "dccd9001-2462-432e-bd9c-48556347cd22",
   "metadata": {},
   "outputs": [],
   "source": [
    "predictor_hyper_opt = TabularPredictor(label='count', problem_type='regression')\n",
    "predictor_hyper_opt = predictor_hyper_opt.fit(\n",
    "    train_data=train.drop(columns=['casual', 'registered']),\n",
    "    time_limit=300,\n",
    "    presets='high_quality',\n",
    "    hyperparameters=hyperparameters,\n",
    "    hyperparameter_tune_kwargs=hyperparameter_tune_kwargs\n",
    ")"
   ]
  },
  {
   "cell_type": "code",
   "execution_count": null,
   "id": "38cfc89a-5143-4c7e-926d-415d1e1c98e1",
   "metadata": {},
   "outputs": [],
   "source": [
    "predictions_hyper_opt = predictor_hyper_opt.predict(test)\n",
    "print(f'Number of negative predictions: {(predictions_hyper_opt < 0).sum()}')\n",
    "predictions_hyper_opt[predictions_hyper_opt < 0] = 0\n",
    "submission['count'] = predictions_hyper_opt.astype('int')\n",
    "submission.to_csv('bike-sharing-demand/submission_hyper_opt.csv', index=False)"
   ]
  },
  {
   "cell_type": "code",
   "execution_count": null,
   "id": "ab93eb26-b01a-48ec-af3b-e5a9c7df9175",
   "metadata": {},
   "outputs": [],
   "source": [
    "!kaggle competitions submit -c bike-sharing-demand -f bike-sharing-demand/submission_new_features.csv -m \"hyperparamter tuning options\""
   ]
  },
  {
   "cell_type": "code",
   "execution_count": null,
   "id": "fe49e879-a3d3-42cb-88d5-dd93605a12a1",
   "metadata": {},
   "outputs": [],
   "source": [
    "!kaggle competitions submissions -c bike-sharing-demand | tail -n +1 | head -n 6"
   ]
  },
  {
   "cell_type": "code",
   "execution_count": null,
   "id": "9fdc49ff-9a36-41bc-bffc-bac634c8b577",
   "metadata": {},
   "outputs": [],
   "source": []
  }
 ],
 "metadata": {
  "kernelspec": {
   "display_name": "Python 3 (ipykernel)",
   "language": "python",
   "name": "python3"
  },
  "language_info": {
   "codemirror_mode": {
    "name": "ipython",
    "version": 3
   },
   "file_extension": ".py",
   "mimetype": "text/x-python",
   "name": "python",
   "nbconvert_exporter": "python",
   "pygments_lexer": "ipython3",
   "version": "3.10.13"
  }
 },
 "nbformat": 4,
 "nbformat_minor": 5
}

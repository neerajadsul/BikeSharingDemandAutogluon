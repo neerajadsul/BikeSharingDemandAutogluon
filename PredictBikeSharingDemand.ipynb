{
 "cells": [
  {
   "cell_type": "markdown",
   "id": "9448d925",
   "metadata": {},
   "source": [
    "# Predict Bike Sharing Demand with Autogluon"
   ]
  },
  {
   "cell_type": "code",
   "execution_count": null,
   "id": "70eb9101",
   "metadata": {},
   "outputs": [],
   "source": [
    "import pandas as pd\n",
    "from autogluon.tabular import TabularPredictor\n",
    "import autogluon\n",
    "import matplotlib.pyplot as plt\n",
    "print('Autogluon Version: ', autogluon.common.version.__version__)"
   ]
  },
  {
   "cell_type": "markdown",
   "id": "578a9cbf",
   "metadata": {},
   "source": [
    "## Step-1: Load and explore the data"
   ]
  },
  {
   "cell_type": "code",
   "execution_count": null,
   "id": "776a6b9f",
   "metadata": {},
   "outputs": [],
   "source": [
    "train = pd.read_csv('bike-sharing-demand/train.csv')\n",
    "train['datetime'] = pd.to_datetime(train['datetime'])\n",
    "print(train.info())\n",
    "train.head()"
   ]
  },
  {
   "cell_type": "code",
   "execution_count": null,
   "id": "d9a6d51c",
   "metadata": {},
   "outputs": [],
   "source": [
    "test = pd.read_csv('bike-sharing-demand/test.csv')\n",
    "test['datetime'] = pd.to_datetime(test['datetime'])\n",
    "print(test.info())\n",
    "test.head()"
   ]
  },
  {
   "cell_type": "code",
   "execution_count": null,
   "id": "0f7d4dfd",
   "metadata": {},
   "outputs": [],
   "source": [
    "submission = pd.read_csv('bike-sharing-demand/sampleSubmission.csv')\n",
    "print(submission.info())\n",
    "submission.tail()"
   ]
  },
  {
   "cell_type": "markdown",
   "id": "987fa0af",
   "metadata": {},
   "source": [
    "## Step-2: Train Model using Autogluon's Tabular Prediction"
   ]
  },
  {
   "cell_type": "code",
   "execution_count": null,
   "id": "6bd1309d",
   "metadata": {},
   "outputs": [],
   "source": [
    "predictor = TabularPredictor(label='count', problem_type='regression')\n",
    "predictor = predictor.fit(\n",
    "    train_data=train.drop(columns=['casual', 'registered']),\n",
    "    time_limit=300,\n",
    "    presets='high_quality'\n",
    ")"
   ]
  },
  {
   "cell_type": "code",
   "execution_count": null,
   "id": "2a43214c",
   "metadata": {},
   "outputs": [],
   "source": [
    "predictor.fit_summary()"
   ]
  },
  {
   "cell_type": "code",
   "execution_count": null,
   "id": "2e9bc207",
   "metadata": {},
   "outputs": [],
   "source": [
    "predictions = predictor.predict(test)"
   ]
  },
  {
   "cell_type": "markdown",
   "id": "16a5bc66",
   "metadata": {},
   "source": [
    "### Checking for any negative predictions and set them to 0"
   ]
  },
  {
   "cell_type": "code",
   "execution_count": null,
   "id": "e60dd822",
   "metadata": {},
   "outputs": [],
   "source": [
    "print(f'Number of negative predictions: {(predictions < 0).sum()}')\n",
    "predictions[predictions < 0] = 0"
   ]
  },
  {
   "cell_type": "code",
   "execution_count": null,
   "id": "038e3e42",
   "metadata": {},
   "outputs": [],
   "source": [
    "submission['count'] = predictions\n",
    "submission.to_csv('bike-sharing-demand/submission.csv', index=False)"
   ]
  },
  {
   "cell_type": "markdown",
   "id": "e627d4ec",
   "metadata": {},
   "source": [
    "## Feature Engineering with EDA"
   ]
  },
  {
   "cell_type": "code",
   "execution_count": null,
   "id": "fd8112bc",
   "metadata": {},
   "outputs": [],
   "source": [
    "train.hist(figsize=(15,12))"
   ]
  },
  {
   "cell_type": "code",
   "execution_count": null,
   "id": "85ed29aa",
   "metadata": {},
   "outputs": [],
   "source": [
    "train['month'] = train['datetime'].dt.month\n",
    "train['day'] = train['datetime'].dt.day\n",
    "train['hour'] = train['datetime'].dt.hour"
   ]
  },
  {
   "cell_type": "code",
   "execution_count": null,
   "id": "144dab4d",
   "metadata": {},
   "outputs": [],
   "source": []
  }
 ],
 "metadata": {
  "kernelspec": {
   "display_name": "Python 3 (ipykernel)",
   "language": "python",
   "name": "python3"
  },
  "language_info": {
   "codemirror_mode": {
    "name": "ipython",
    "version": 3
   },
   "file_extension": ".py",
   "mimetype": "text/x-python",
   "name": "python",
   "nbconvert_exporter": "python",
   "pygments_lexer": "ipython3",
   "version": "3.10.13"
  }
 },
 "nbformat": 4,
 "nbformat_minor": 5
}
